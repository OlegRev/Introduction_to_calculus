{
 "cells": [
  {
   "cell_type": "markdown",
   "metadata": {},
   "source": [
    "## Тема 6 “Понятие о производной”"
   ]
  },
  {
   "cell_type": "markdown",
   "metadata": {},
   "source": [
    "1. Натйи производную выражения:"
   ]
  },
  {
   "cell_type": "markdown",
   "metadata": {},
   "source": [
    "a. $\\sin(x) \\cdot \\cos(x)\\\\\n",
    "(\\sin(x) \\cdot \\cos(x))' = (\\sin(x))'\\cdot(\\cos(x))+(\\sin(x))\\cdot(\\cos(x))'=\\cos^2(x) - \\sin^2(x)$"
   ]
  },
  {
   "cell_type": "markdown",
   "metadata": {},
   "source": [
    "b. $\\ln(2x+1)^3\\\\\n",
    "(\\ln(2x+1)^3)' = \\frac{1}{(2x+1)^3} \\cdot ((2x+1)^3))'=\\frac{1}{(2x+1)^3} \\cdot 3\\cdot (2x+1)^2 \\cdot (2x+1)'=\\frac{1}{(2x+1)^3} \\cdot 3\\cdot (2x+1)^2 \\cdot 2 = \\frac{6\\cdot (2x+1)^2}{(2x+1)^3}=\\frac{6} {2x+1}$"
   ]
  },
  {
   "cell_type": "markdown",
   "metadata": {},
   "source": [
    "c. $\\sqrt{\\sin^2(\\ln(x^3))}\\\\\n",
    "\\big(\\sqrt{\\sin^2(\\ln(x^3))}\\big)'=\\frac{1}{2\\cdot \\sin^2(\\ln(x^3))}\\cdot (\\sin^2(\\ln(x^3)))'=\\frac{1}{2\\cdot \\sin^2(\\ln(x^3))}\\cdot 2\\cdot(\\sin(\\ln(x^3)))\\cdot (\\sin(\\ln(x^3)))' =\\\\ \\frac{1}{2\\cdot \\sin^2(\\ln(x^3))}\\cdot 2\\cdot(\\sin(\\ln(x^3)))\\cdot \\cos(\\ln(x^3)) \\cdot(\\ln(x^3))'=\\frac{1}{2\\cdot \\sin^2(\\ln(x^3))}\\cdot 2\\cdot(\\sin(\\ln(x^3)))\\cdot \\cos(\\ln(x^3)) \\cdot \\frac{1}{x^3} \\cdot (x^3)'=\\frac{1}{2\\cdot \\sin^2(\\ln(x^3))}\\cdot 2\\cdot(\\sin(\\ln(x^3)))\\cdot \\cos(\\ln(x^3)) \\cdot \\frac{1}{x^3} \\cdot 3x^2=\\frac{3}{x} \\cdot \\frac{\\cos(\\ln(x^3))}{\\sin(\\ln(x^3))}=\\frac{3}{x}\\cdot ctg(\\ln(x^3))$"
   ]
  },
  {
   "cell_type": "markdown",
   "metadata": {},
   "source": [
    "d. $\\frac{x^4}{\\ln(x)}\\\\\n",
    "\\big(\\frac{x^4}{\\ln(x)}\\big)'=\\frac{(x^4)'\\cdot(\\ln(x))-(x^4)\\cdot(\\ln(x))'}{(\\ln(x))^2}=\\frac{4x^3\\cdot(\\ln(x))-(x^4)\\cdot(\\frac{1}{x})}{(\\ln(x))^2}=\\frac{4x^3\\cdot(\\ln(x))-x^3}{(\\ln(x))^2}=\\frac{4x^3}{\\ln(x)}-\\frac{x^3}{(\\ln(x))^2}$"
   ]
  },
  {
   "cell_type": "markdown",
   "metadata": {},
   "source": [
    "2. Найти выражение производной функции и ее значение в точке:"
   ]
  },
  {
   "cell_type": "markdown",
   "metadata": {},
   "source": [
    "$f(x)=\\cos(x^2+3x),\\quad x_0=\\sqrt{\\pi}\\\\\n",
    "(f(x))'=(\\cos(x^2+3x))'=-\\sin(x^2+3x)\\cdot (x^2+3x)'=-\\sin(x^2+3x)\\cdot (2x+3)= -2x\\sin(x^2+3x) -3\\sin(x^2+3x)\\\\\n",
    "x=x_0 \\to (f(x_0))'= -2x_0\\sin(x_0^2+3x_0) -3\\sin(x_0^2+3x_0)= -2\\sqrt{\\pi}\\sin((\\sqrt{\\pi})^2+3\\sqrt{\\pi}) -3\\sin((\\sqrt{\\pi})^2+3\\sqrt{\\pi})=-2\\sqrt{\\pi}\\sin((\\pi+3\\sqrt{\\pi}) -3\\sin((\\pi+3\\sqrt{\\pi})=-5.38330241089062$"
   ]
  },
  {
   "cell_type": "markdown",
   "metadata": {},
   "source": [
    "3. *  Найти значение производной функции в точке:"
   ]
  },
  {
   "cell_type": "markdown",
   "metadata": {},
   "source": [
    "$f(x)= \\frac{x^3-x^2-x-1}{1+2x+3x^2-4x^3}, \\quad x_0=0\\\\\n",
    "(f(x))'= \\big(\\frac{x^3-x^2-x-1}{1+2x+3x^2-4x^3}\\big)'= \\frac{(x^3-x^2-x-1)'\\cdot(1+2x+3x^2-4x^3)-(x^3-x^2-x-1)\\cdot(1+2x+3x^2-4x^3)'}{(1+2x+3x^2-4x^3)^2}=\\frac{(3x^2-2x-1)\\cdot(1+2x+3x^2-4x^3)-(x^3-x^2-x-1)\\cdot(2+6x-12x^2)}{(1+2x+3x^2-4x^3)^2}\\\\\n",
    "x=x_0 \\to (f(x))'=\\frac{(3x^2-2x-1)\\cdot(1+2x+3x^2-4x^3)-(x^3-x^2-x-1)\\cdot(2+6x-12x^2)}{(1+2x+3x^2-4x^3)^2}=\\frac{(3\\cdot 0^2-2\\cdot 0-1)\\cdot(1+2\\cdot 0+3\\cdot 0^2-4\\cdot 0^3)-(0^3-0^2-0-1)\\cdot(2+6\\cdot 0-12\\cdot 0^2)}{(1+2\\cdot 0+3\\cdot0^2-4\\cdot 0^3)^2}=\\frac{(-1)\\cdot(1)-(-1)\\cdot(2)}{(1)^2}= \\frac{1}{1}=1$"
   ]
  },
  {
   "cell_type": "markdown",
   "metadata": {},
   "source": [
    "4. Найти угол наклона касательной к графику функции в точке:"
   ]
  },
  {
   "cell_type": "markdown",
   "metadata": {},
   "source": [
    "$f(x)=\\sqrt{3x}\\cdot ln(x), \\quad x_0=1\\\\\n",
    "tg(\\alpha)|_{x_0}=(f(x))'|_{x_0}= (\\sqrt{3x})'\\cdot ln(x)+\\sqrt{3x}\\cdot (ln(x))'= (\\sqrt{3x})'\\cdot ln(x)+\\sqrt{3x}\\cdot \\frac{1}{x}=\\sqrt{3}\\cdot (\\sqrt{x})'\\cdot ln(x)+\\sqrt{3x}\\cdot \\frac{1}{x}=\\sqrt{3}\\cdot \\frac{1}{2\\sqrt{x}}\\cdot ln(x)+\\sqrt{3}\\cdot \\frac{\\sqrt{x}}{x}= \\sqrt{3}\\bigg(\\frac{ln(x)}{2\\sqrt{x}}+\\frac{1}{\\sqrt{x}}\\bigg)\\bigg|_{x_0}=\\sqrt{3}\\bigg(\\frac{ln(1)}{2\\sqrt{1}}+\\frac{1}{\\sqrt{1}}\\bigg)=\\sqrt{3}\\bigg(\\frac{ln(1)}{2}+1\\bigg)= \\sqrt{3}\\\\\n",
    "\\alpha = 60^{\\circ}$"
   ]
  },
  {
   "cell_type": "code",
   "execution_count": 1,
   "metadata": {},
   "outputs": [
    {
     "data": {
      "text/plain": [
       "-5.38330241089062"
      ]
     },
     "execution_count": 1,
     "metadata": {},
     "output_type": "execute_result"
    }
   ],
   "source": [
    "import numpy as np\n",
    "-2*np.sqrt(np.pi)*np.sin(np.pi+3*np.sqrt(np.pi))-3*np.sin(np.pi+3*np.sqrt(np.pi))"
   ]
  },
  {
   "cell_type": "code",
   "execution_count": null,
   "metadata": {},
   "outputs": [],
   "source": []
  }
 ],
 "metadata": {
  "kernelspec": {
   "display_name": "Python 3",
   "language": "python",
   "name": "python3"
  },
  "language_info": {
   "codemirror_mode": {
    "name": "ipython",
    "version": 3
   },
   "file_extension": ".py",
   "mimetype": "text/x-python",
   "name": "python",
   "nbconvert_exporter": "python",
   "pygments_lexer": "ipython3",
   "version": "3.7.6"
  }
 },
 "nbformat": 4,
 "nbformat_minor": 4
}
