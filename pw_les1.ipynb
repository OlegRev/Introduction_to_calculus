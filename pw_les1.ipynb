{
 "cells": [
  {
   "cell_type": "markdown",
   "metadata": {},
   "source": [
    "### Тема “Введение в математических анализ”"
   ]
  },
  {
   "cell_type": "markdown",
   "metadata": {},
   "source": [
    "    1. Как относятся друг к другу множество и последовательность? (в ответе использовать слова типа: часть, целое, общее, частное, родитель, дочерний субъект и т.д.)\n",
    "   "
   ]
  },
  {
   "cell_type": "markdown",
   "metadata": {},
   "source": [
    "***Множество относиться к последовательности как родительский субъект к дочернему, так как последовательность является набором элементов некоторого множества***"
   ]
  },
  {
   "cell_type": "markdown",
   "metadata": {},
   "source": [
    " 2. Прочитать высказывания математической логики, построить их отрицания и установить истинность.\n"
   ]
  },
  {
   "cell_type": "markdown",
   "metadata": {},
   "source": [
    "<img src=\"Задание1.png\"> "
   ]
  },
  {
   "cell_type": "markdown",
   "metadata": {},
   "source": [
    "1. Для любого \"y\" на отрезке от 0 до 1 функция сигнум от \"y\" равна 1\n",
    "\n",
    "$\\forall y \\in [0;1]:sgn(y)=1\\\\\n",
    "\\exists x \\in [0;1]:sgn(x)\\neq 1$\n",
    "\n"
   ]
  },
  {
   "cell_type": "markdown",
   "metadata": {},
   "source": [
    "2. Для любого натурального \"n\" больше 2, существуют натуральные \"x\"\"y\"\"z\" для которых справедливо равенство \"x\" в степени \"n\" равно \"y\" в степени \"n\" плюс \"z\" в степени \"n\" .\n",
    "\n",
    "\n",
    "$\\forall n \\in \\mathbb{N} \\gt; 2 : \\exists x, y, z \\in \\mathbb{N}: x^n = y^n + z^n\\\\\n",
    "\\exists n \\in \\mathbb{N} \\gt; 2 : \\forall x, y, z \\in \\mathbb{N}: x^n \\neq y^n + z^n$\n",
    "\n"
   ]
  },
  {
   "cell_type": "markdown",
   "metadata": {},
   "source": [
    "3. Для любого дейтсвительного \"x\" существует действительное \"X\" большее чем \"x\".\n",
    "\n",
    "$\\forall x \\in \\mathbb{R} \\exists X \\in \\mathbb {R} :X \\gt;x\\\\\n",
    "\\exists x \\in \\mathbb{R} \\forall X \\in \\mathbb {R} :X \\lt; x$\n"
   ]
  },
  {
   "cell_type": "markdown",
   "metadata": {},
   "source": [
    "4. Для любого комплексного \"x\" не существует комплексного \"y\"такого что бы \"x\" было больше или меньше \"y\"\n",
    "\n",
    "$\\forall x \\in \\mathbb{C} \\nexists y \\in \\mathbb{C} : x \\gt; y \\parallel x \\lt; y\\\\\n",
    "\\exists x,y \\in \\mathbb{C} : x \\lt; y \\\\amp; x \\gt; y$\n"
   ]
  },
  {
   "cell_type": "markdown",
   "metadata": {},
   "source": [
    "5. Для любого \"y\" принадлежащего отрезку от 0 до пи/2 существует эпсилон большее 0 для которого справедливо неравенство sin(y) < sin(y + \"эпсилон\") \n",
    "\n",
    "$\\forall y \\in [0; \\frac {\\pi} {2}] \\exists \\epsilon \\gt; 0: \\sin{y} \\lt; \\sin{(y + \\epsilon)}\\\\\n",
    "\\exists y \\in [0; \\frac {\\pi} {2}] \\forall \\epsilon \\gt; 0: \\sin{y} \\gt; \\sin{(y + \\epsilon)}$\n"
   ]
  },
  {
   "cell_type": "markdown",
   "metadata": {},
   "source": [
    "6. Для любого \"y\" принадлежащего отрезку от 0 до пи невключительно существует эпсилон большее 0 для которого справедливо неравенство cos(y) > cos(y + \"эпсилон\") \n",
    "\n",
    "$\\forall y \\in [0; \\pi) \\exists \\epsilon \\gt; 0: \\cos{y} \\gt; \\cos{(y + \\epsilon)}\\\\\n",
    "\\exists y \\in [0; \\pi) \\forall \\epsilon \\gt; 0: \\cos{y} \\lt; \\cos{(y + \\epsilon)}$\n"
   ]
  },
  {
   "cell_type": "markdown",
   "metadata": {},
   "source": [
    "7. Существует \"x\" не принадлежащий натуральным, целым, рациональным, вещественным, комплексным числам.b\n",
    "\n",
    "$\\exists x: x \\notin \\{\\mathbb{N, Z, Q, R, C}\\}\\\\\n",
    "\\forall x: x \\in \\{\\mathbb{N, Z, Q, R, C}\\}$\n"
   ]
  },
  {
   "cell_type": "markdown",
   "metadata": {},
   "source": [
    "### Тема “Множество”"
   ]
  },
  {
   "cell_type": "markdown",
   "metadata": {},
   "source": [
    "    1. Даны три множества a,b и с. Необходимо выполнить все изученные виды бинарных операций над всеми комбинациями множеств.\n",
    "   "
   ]
  },
  {
   "cell_type": "markdown",
   "metadata": {},
   "source": [
    "$A = \\{0,\\quad 1,\\quad spam,\\quad 3.3\\}\\\\\n",
    "B = \\{4,\\quad 0,\\quad 6.6,\\quad  ham\\}\\\\\n",
    "C = \\{eggs,\\quad 7,\\quad 0,\\quad 9.9\\}\\\\\n",
    "Пересечение\\\\\n",
    "A \\cap B \\cap C = \\{0\\}\\\\\n",
    "Объединение\\\\\n",
    "A \\cup B \\cup C = \\{0, 1, 3.3, 4, 6.6, 7, 9.9, 'eggs', 'ham', 'spam'\\}\\\\\n",
    "Разность\\\\\n",
    "A \\setminus B \\setminus C = \\{1, 3.3, 'spam'\\}\\\\\n",
    "Симметрическая \\quad разность\\\\\n",
    "A \\Delta B \\Delta C = \\{1, 3.3, 4, 6.6, 7, 9.9, 'eggs', 'ham', 'spam'\\}\\\\\n",
    "Декартово \\quad произведение\\\\\n",
    "A \\times B \\times C = \\{('spam', 'ham', 'eggs'), ('spam', 'ham', 0),\n",
    " ('spam', 'ham', 8),\n",
    " ('spam', 'ham', 9.9),\n",
    " ('spam', 0, 'eggs'),\n",
    " ('spam', 0, 0),\\dots \\}$"
   ]
  },
  {
   "cell_type": "markdown",
   "metadata": {},
   "source": [
    " 2. *Выполнить задание 1 на языке Python"
   ]
  },
  {
   "cell_type": "code",
   "execution_count": 1,
   "metadata": {},
   "outputs": [],
   "source": [
    "A = {0, 1, 'spam', 3.3}\n",
    "B = {4, 0, 6.6,  'ham'}\n",
    "C = {'eggs', 7, 0, 9.9}\n",
    "Crossing = A & B & C\n",
    "Union = A | B | C\n",
    "Difference = A - B - C\n",
    "Symmetrical_difference = (A - B - C) | (B - C - A) | (C - A - B)\n",
    "s_d = A^B^C"
   ]
  },
  {
   "cell_type": "code",
   "execution_count": 2,
   "metadata": {},
   "outputs": [],
   "source": [
    "import itertools\n",
    "Cartesian_product = {i for i in itertools.product(*[A, B, C])}"
   ]
  },
  {
   "cell_type": "code",
   "execution_count": 3,
   "metadata": {},
   "outputs": [
    {
     "data": {
      "text/plain": [
       "{0}"
      ]
     },
     "execution_count": 3,
     "metadata": {},
     "output_type": "execute_result"
    }
   ],
   "source": [
    "Crossing"
   ]
  },
  {
   "cell_type": "code",
   "execution_count": 4,
   "metadata": {},
   "outputs": [
    {
     "data": {
      "text/plain": [
       "{0, 1, 3.3, 4, 6.6, 7, 9.9, 'eggs', 'ham', 'spam'}"
      ]
     },
     "execution_count": 4,
     "metadata": {},
     "output_type": "execute_result"
    }
   ],
   "source": [
    "Union"
   ]
  },
  {
   "cell_type": "code",
   "execution_count": 5,
   "metadata": {},
   "outputs": [
    {
     "data": {
      "text/plain": [
       "{1, 3.3, 'spam'}"
      ]
     },
     "execution_count": 5,
     "metadata": {},
     "output_type": "execute_result"
    }
   ],
   "source": [
    "Difference"
   ]
  },
  {
   "cell_type": "code",
   "execution_count": 6,
   "metadata": {},
   "outputs": [
    {
     "data": {
      "text/plain": [
       "{1, 3.3, 4, 6.6, 7, 9.9, 'eggs', 'ham', 'spam'}"
      ]
     },
     "execution_count": 6,
     "metadata": {},
     "output_type": "execute_result"
    }
   ],
   "source": [
    "Symmetrical_difference"
   ]
  },
  {
   "cell_type": "code",
   "execution_count": 7,
   "metadata": {},
   "outputs": [
    {
     "data": {
      "text/plain": [
       "{0, 1, 3.3, 4, 6.6, 7, 9.9, 'eggs', 'ham', 'spam'}"
      ]
     },
     "execution_count": 7,
     "metadata": {},
     "output_type": "execute_result"
    }
   ],
   "source": [
    "s_d"
   ]
  },
  {
   "cell_type": "code",
   "execution_count": 8,
   "metadata": {},
   "outputs": [
    {
     "data": {
      "text/plain": [
       "{('spam', 'ham', 'eggs'),\n",
       " ('spam', 'ham', 0),\n",
       " ('spam', 'ham', 7),\n",
       " ('spam', 'ham', 9.9),\n",
       " ('spam', 0, 'eggs'),\n",
       " ('spam', 0, 0),\n",
       " ('spam', 0, 7),\n",
       " ('spam', 0, 9.9),\n",
       " ('spam', 4, 'eggs'),\n",
       " ('spam', 4, 0),\n",
       " ('spam', 4, 7),\n",
       " ('spam', 4, 9.9),\n",
       " ('spam', 6.6, 'eggs'),\n",
       " ('spam', 6.6, 0),\n",
       " ('spam', 6.6, 7),\n",
       " ('spam', 6.6, 9.9),\n",
       " (0, 'ham', 'eggs'),\n",
       " (0, 'ham', 0),\n",
       " (0, 'ham', 7),\n",
       " (0, 'ham', 9.9),\n",
       " (0, 0, 'eggs'),\n",
       " (0, 0, 0),\n",
       " (0, 0, 7),\n",
       " (0, 0, 9.9),\n",
       " (0, 4, 'eggs'),\n",
       " (0, 4, 0),\n",
       " (0, 4, 7),\n",
       " (0, 4, 9.9),\n",
       " (0, 6.6, 'eggs'),\n",
       " (0, 6.6, 0),\n",
       " (0, 6.6, 7),\n",
       " (0, 6.6, 9.9),\n",
       " (1, 'ham', 'eggs'),\n",
       " (1, 'ham', 0),\n",
       " (1, 'ham', 7),\n",
       " (1, 'ham', 9.9),\n",
       " (1, 0, 'eggs'),\n",
       " (1, 0, 0),\n",
       " (1, 0, 7),\n",
       " (1, 0, 9.9),\n",
       " (1, 4, 'eggs'),\n",
       " (1, 4, 0),\n",
       " (1, 4, 7),\n",
       " (1, 4, 9.9),\n",
       " (1, 6.6, 'eggs'),\n",
       " (1, 6.6, 0),\n",
       " (1, 6.6, 7),\n",
       " (1, 6.6, 9.9),\n",
       " (3.3, 'ham', 'eggs'),\n",
       " (3.3, 'ham', 0),\n",
       " (3.3, 'ham', 7),\n",
       " (3.3, 'ham', 9.9),\n",
       " (3.3, 0, 'eggs'),\n",
       " (3.3, 0, 0),\n",
       " (3.3, 0, 7),\n",
       " (3.3, 0, 9.9),\n",
       " (3.3, 4, 'eggs'),\n",
       " (3.3, 4, 0),\n",
       " (3.3, 4, 7),\n",
       " (3.3, 4, 9.9),\n",
       " (3.3, 6.6, 'eggs'),\n",
       " (3.3, 6.6, 0),\n",
       " (3.3, 6.6, 7),\n",
       " (3.3, 6.6, 9.9)}"
      ]
     },
     "execution_count": 8,
     "metadata": {},
     "output_type": "execute_result"
    }
   ],
   "source": [
    "Cartesian_product"
   ]
  },
  {
   "cell_type": "markdown",
   "metadata": {},
   "source": [
    "### Тема 3 “Последовательность”"
   ]
  },
  {
   "cell_type": "markdown",
   "metadata": {},
   "source": [
    "1. Даны 4 последовательности. Необходимо:\n",
    "        a. исследовать их на монотонность; \n",
    "        b. исследовать на ограниченность;\n",
    "        c. найти пятый по счету член.\n",
    "\n",
    "\n",
    "   "
   ]
  },
  {
   "cell_type": "markdown",
   "metadata": {},
   "source": [
    "$\n",
    "\\{a_n\\}^{\\infty}_{n=1} = 2^n - n,\\\\\n",
    "$"
   ]
  },
  {
   "cell_type": "code",
   "execution_count": 9,
   "metadata": {},
   "outputs": [],
   "source": [
    "def a_n(n):\n",
    "    return 2**n-n"
   ]
  },
  {
   "cell_type": "code",
   "execution_count": 10,
   "metadata": {},
   "outputs": [
    {
     "data": {
      "text/plain": [
       "[1, 2, 5, 12, 27, 58, 121, 248, 503, 1014, 2037]"
      ]
     },
     "execution_count": 10,
     "metadata": {},
     "output_type": "execute_result"
    }
   ],
   "source": [
    "# a. исследовать их на монотонность;\n",
    "[a_n(itm) for itm in range(1, 12)]\n",
    "# монотонная последовательность"
   ]
  },
  {
   "cell_type": "code",
   "execution_count": 11,
   "metadata": {},
   "outputs": [
    {
     "data": {
      "text/plain": [
       "1267650600228229401496703205276"
      ]
     },
     "execution_count": 11,
     "metadata": {},
     "output_type": "execute_result"
    }
   ],
   "source": [
    "# b. исследовать на ограниченность;\n",
    "a_n(100)\n",
    "# возрастающая"
   ]
  },
  {
   "cell_type": "code",
   "execution_count": 12,
   "metadata": {},
   "outputs": [
    {
     "data": {
      "text/plain": [
       "100.0"
      ]
     },
     "execution_count": 12,
     "metadata": {},
     "output_type": "execute_result"
    }
   ],
   "source": [
    "a_n(-100)"
   ]
  },
  {
   "cell_type": "code",
   "execution_count": 13,
   "metadata": {},
   "outputs": [
    {
     "data": {
      "text/plain": [
       "27"
      ]
     },
     "execution_count": 13,
     "metadata": {},
     "output_type": "execute_result"
    }
   ],
   "source": [
    "# c. найти пятый по счету член.\n",
    "a_n(5)"
   ]
  },
  {
   "cell_type": "markdown",
   "metadata": {},
   "source": [
    "$\\{b_n\\}^{\\infty}_{n=2} = \\frac{1}{1-n}\\\\\n",
    "$"
   ]
  },
  {
   "cell_type": "code",
   "execution_count": 14,
   "metadata": {},
   "outputs": [],
   "source": [
    "def a_n(n):\n",
    "    return 1/(1-n)"
   ]
  },
  {
   "cell_type": "code",
   "execution_count": 15,
   "metadata": {},
   "outputs": [
    {
     "data": {
      "text/plain": [
       "[-1.0,\n",
       " -0.5,\n",
       " -0.3333333333333333,\n",
       " -0.25,\n",
       " -0.2,\n",
       " -0.16666666666666666,\n",
       " -0.14285714285714285,\n",
       " -0.125,\n",
       " -0.1111111111111111,\n",
       " -0.1]"
      ]
     },
     "execution_count": 15,
     "metadata": {},
     "output_type": "execute_result"
    }
   ],
   "source": [
    "# a. исследовать их на монотонность;\n",
    "[a_n(itm) for itm in range(2, 12)]\n",
    "# монотонная последовательность"
   ]
  },
  {
   "cell_type": "code",
   "execution_count": 16,
   "metadata": {},
   "outputs": [
    {
     "data": {
      "text/plain": [
       "-0.010101010101010102"
      ]
     },
     "execution_count": 16,
     "metadata": {},
     "output_type": "execute_result"
    }
   ],
   "source": [
    "# b. исследовать на ограниченность;\n",
    "# n!=1\n",
    "a_n(100)\n",
    "# возрастающая"
   ]
  },
  {
   "cell_type": "code",
   "execution_count": 17,
   "metadata": {},
   "outputs": [
    {
     "data": {
      "text/plain": [
       "0.009900990099009901"
      ]
     },
     "execution_count": 17,
     "metadata": {},
     "output_type": "execute_result"
    }
   ],
   "source": [
    "a_n(-100)"
   ]
  },
  {
   "cell_type": "code",
   "execution_count": 18,
   "metadata": {},
   "outputs": [
    {
     "data": {
      "text/plain": [
       "-0.25"
      ]
     },
     "execution_count": 18,
     "metadata": {},
     "output_type": "execute_result"
    }
   ],
   "source": [
    "# c. найти пятый по счету член.\n",
    "a_n(5)"
   ]
  },
  {
   "cell_type": "markdown",
   "metadata": {},
   "source": [
    "$\\{c_n\\}^{\\infty}_{n=1} = -1^n+\\sqrt{2n}\\\\\n",
    "$"
   ]
  },
  {
   "cell_type": "code",
   "execution_count": 19,
   "metadata": {},
   "outputs": [
    {
     "data": {
      "text/plain": [
       "2.1622776601683795"
      ]
     },
     "execution_count": 19,
     "metadata": {},
     "output_type": "execute_result"
    }
   ],
   "source": [
    "from math import sqrt\n",
    "def a_n(n):\n",
    "    return (-1)**n+sqrt(2*n)\n",
    "\n",
    "a_n(5)"
   ]
  },
  {
   "cell_type": "code",
   "execution_count": 20,
   "metadata": {},
   "outputs": [
    {
     "data": {
      "text/plain": [
       "[0.41421356237309515,\n",
       " 3.0,\n",
       " 1.4494897427831779,\n",
       " 3.8284271247461903,\n",
       " 2.1622776601683795,\n",
       " 4.464101615137754,\n",
       " 2.7416573867739413,\n",
       " 5.0,\n",
       " 3.2426406871192848,\n",
       " 5.47213595499958,\n",
       " 3.6904157598234297]"
      ]
     },
     "execution_count": 20,
     "metadata": {},
     "output_type": "execute_result"
    }
   ],
   "source": [
    "# a. исследовать их на монотонность;\n",
    "[a_n(itm) for itm in range(1, 12)]\n",
    "#  последовательность"
   ]
  },
  {
   "cell_type": "code",
   "execution_count": 21,
   "metadata": {},
   "outputs": [
    {
     "data": {
      "text/plain": [
       "15.142135623730951"
      ]
     },
     "execution_count": 21,
     "metadata": {},
     "output_type": "execute_result"
    }
   ],
   "source": [
    "# b. исследовать на ограниченность;\n",
    "# n=>0\n",
    "a_n(100)\n",
    "# возрастающая"
   ]
  },
  {
   "cell_type": "code",
   "execution_count": 22,
   "metadata": {},
   "outputs": [
    {
     "data": {
      "text/plain": [
       "2.1622776601683795"
      ]
     },
     "execution_count": 22,
     "metadata": {},
     "output_type": "execute_result"
    }
   ],
   "source": [
    "# c. найти пятый по счету член.\n",
    "a_n(5)"
   ]
  },
  {
   "cell_type": "markdown",
   "metadata": {},
   "source": [
    "$\\{d_n\\}^{\\infty}_{n=1} = (-1)^{2n}+\\frac{1}{n^2}\\\\\n",
    "$"
   ]
  },
  {
   "cell_type": "code",
   "execution_count": 23,
   "metadata": {},
   "outputs": [
    {
     "data": {
      "text/plain": [
       "1.4"
      ]
     },
     "execution_count": 23,
     "metadata": {},
     "output_type": "execute_result"
    }
   ],
   "source": [
    "def a_n(n):\n",
    "    if n==0:\n",
    "        return (-1)**(2*n)\n",
    "    return (-1)**(2*n) + (1/n*2)\n",
    "\n",
    "a_n(5)"
   ]
  },
  {
   "cell_type": "code",
   "execution_count": 24,
   "metadata": {},
   "outputs": [
    {
     "data": {
      "text/plain": [
       "[3.0,\n",
       " 2.0,\n",
       " 1.6666666666666665,\n",
       " 1.5,\n",
       " 1.4,\n",
       " 1.3333333333333333,\n",
       " 1.2857142857142856,\n",
       " 1.25,\n",
       " 1.2222222222222223,\n",
       " 1.2,\n",
       " 1.1818181818181819]"
      ]
     },
     "execution_count": 24,
     "metadata": {},
     "output_type": "execute_result"
    }
   ],
   "source": [
    "# a. исследовать их на монотонность;\n",
    "[a_n(itm) for itm in range(1, 12)]\n",
    "# монотонная последовательность"
   ]
  },
  {
   "cell_type": "code",
   "execution_count": 25,
   "metadata": {},
   "outputs": [
    {
     "data": {
      "text/plain": [
       "1.02"
      ]
     },
     "execution_count": 25,
     "metadata": {},
     "output_type": "execute_result"
    }
   ],
   "source": [
    "# b. исследовать на ограниченность;\n",
    "a_n(100)\n",
    "# нестрого убывающая"
   ]
  },
  {
   "cell_type": "code",
   "execution_count": 26,
   "metadata": {},
   "outputs": [
    {
     "data": {
      "text/plain": [
       "1.4"
      ]
     },
     "execution_count": 26,
     "metadata": {},
     "output_type": "execute_result"
    }
   ],
   "source": [
    "# c. найти пятый по счету член.\n",
    "a_n(5)"
   ]
  },
  {
   "cell_type": "markdown",
   "metadata": {},
   "source": [
    " 2. Найти 12-й член заданной неявно последовательности\n",
    "\n",
    "   "
   ]
  },
  {
   "cell_type": "code",
   "execution_count": 27,
   "metadata": {
    "jupyter": {
     "source_hidden": true
    }
   },
   "outputs": [
    {
     "data": {
      "text/latex": [
       "$\n",
       "a_1 = 128,\\quad a_{n+1} - a_n = 6\\\\\n",
       "$\n"
      ],
      "text/plain": [
       "<IPython.core.display.Latex object>"
      ]
     },
     "metadata": {},
     "output_type": "display_data"
    }
   ],
   "source": [
    "%%latex\n",
    "$\n",
    "a_1 = 128,\\quad a_{n+1} - a_n = 6\\\\\n",
    "$"
   ]
  },
  {
   "cell_type": "code",
   "execution_count": 28,
   "metadata": {},
   "outputs": [
    {
     "data": {
      "text/plain": [
       "194"
      ]
     },
     "execution_count": 28,
     "metadata": {},
     "output_type": "execute_result"
    }
   ],
   "source": [
    "def a_next(a_1, n): \n",
    "    a_n_next = a_1 \n",
    "    for _ in range(n-1):\n",
    "        a_n_next += 6\n",
    "    return a_n_next\n",
    "\n",
    "\n",
    "a_next(128, 12)"
   ]
  },
  {
   "cell_type": "markdown",
   "metadata": {},
   "source": [
    " 3. *На языке Python предложить алгоритм вычисляющий численно предел с точностью \n",
    "\n",
    "    "
   ]
  },
  {
   "cell_type": "code",
   "execution_count": 29,
   "metadata": {
    "jupyter": {
     "source_hidden": true
    }
   },
   "outputs": [
    {
     "data": {
      "text/latex": [
       "$\n",
       "\\varepsilon= 10^{-7}\\\\ \\lim\\limits_{x\\to +\\infty} \\frac{n}{\\sqrt[n]{n!}}$ \t\n"
      ],
      "text/plain": [
       "<IPython.core.display.Latex object>"
      ]
     },
     "metadata": {},
     "output_type": "display_data"
    }
   ],
   "source": [
    "%%latex\n",
    "$\n",
    "\\varepsilon= 10^{-7}\\\\ \\lim\\limits_{x\\to +\\infty} \\frac{n}{\\sqrt[n]{n!}}$ \t\n"
   ]
  },
  {
   "cell_type": "code",
   "execution_count": null,
   "metadata": {},
   "outputs": [],
   "source": []
  },
  {
   "cell_type": "markdown",
   "metadata": {},
   "source": [
    "4. *Предложить оптимизацию алгоритма, полученного в задании 3, ускоряющую его сходимость."
   ]
  },
  {
   "cell_type": "code",
   "execution_count": null,
   "metadata": {},
   "outputs": [],
   "source": []
  }
 ],
 "metadata": {
  "kernelspec": {
   "display_name": "Python 3",
   "language": "python",
   "name": "python3"
  },
  "language_info": {
   "codemirror_mode": {
    "name": "ipython",
    "version": 3
   },
   "file_extension": ".py",
   "mimetype": "text/x-python",
   "name": "python",
   "nbconvert_exporter": "python",
   "pygments_lexer": "ipython3",
   "version": "3.7.6"
  }
 },
 "nbformat": 4,
 "nbformat_minor": 4
}
