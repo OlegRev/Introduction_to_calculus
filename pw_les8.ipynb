{
 "cells": [
  {
   "cell_type": "code",
   "execution_count": 1,
   "metadata": {},
   "outputs": [],
   "source": [
    "from numpy import sqrt, sin, cos"
   ]
  },
  {
   "cell_type": "markdown",
   "metadata": {},
   "source": [
    "$1.\\text{Найти область определения функции.}\\\\\n",
    "z = \\sqrt{1-x^3}+\\ln{(y^2-1)}\\\\\n",
    "1-x^3 \\geq 0\\to x^3 \\leq 1\\to x\\leq 1\\\\\n",
    "y^2-1\\gt 0 \\to y^2 \\gt 1\\to (y-1)\\cdot(y+1)\\gt 0 \\to y\\lt -1\\text{ или }y\\gt 1\\\\\n",
    "\\quad \\big\\{(x; y) \\in \\mathbb{R^2}; x \\in (-\\infty, 1], y \\in (-\\infty. -1)(1, +\\infty)$"
   ]
  },
  {
   "cell_type": "markdown",
   "metadata": {},
   "source": [
    "$2.\\text{Найти произовдные 1-го порядка функции.}\\\\\n",
    "z = \\big(1+\\frac{\\ln{x}}{\\ln{y}}\\big)^3\\\\\n",
    "z'_x= 3\\cdot\\big(1+\\frac{\\ln{x}}{\\ln{y}}\\big)^2\\cdot \\big(1+\\frac{\\ln{x}}{\\ln{y}}\\big)'_x=3\\cdot\\big(1+\\frac{\\ln{x}}{\\ln{y}}\\big)^2\\cdot\\big(\\frac{1}{x\\cdot\\ln{y}}\\big)\\\\\n",
    "z'_y= 3\\cdot\\big(1+\\frac{\\ln{x}}{\\ln{y}}\\big)^2\\cdot \\big(1+\\frac{\\ln{x}}{\\ln{y}}\\big)'_y=3\\cdot\\big(1+\\frac{\\ln{x}}{\\ln{y}}\\big)^2\\cdot\\big(-\\frac{\\ln(x)}{y\\cdot((\\ln(y))^2}\\big)$,"
   ]
  },
  {
   "cell_type": "markdown",
   "metadata": {},
   "source": [
    "$3.\\text{Найти полный дифференциал функции в точке(1, 1).}\\\\\n",
    "z = \\sqrt{2\\cdot x \\cdot y+\\cos{\\frac{x}{y}}}= \\sqrt{2\\cdot x \\cdot y}+\\sqrt{\\cos{\\frac{x}{y}}}\\\\\n",
    "dz=z'_x\\cdot dx+z'_y\\cdot dy\\\\\n",
    "z'_x=\\sqrt{2\\cdot y}\\cdot (\\sqrt{x})'_x+\\big(\\sqrt{\\cos{\\frac{x}{y}}}\\big)'_x=\\frac{\\sqrt{2\\cdot y}}{2\\cdot \\sqrt{x}}+\\frac{1}{2\\cdot\\sqrt{\\cos{\\frac{x}{y}}}}\\cdot(-\\frac{\\sin{\\frac{x}{y}}}{y})=\\\\\n",
    "=\\frac{\\sqrt{y}}{ \\sqrt{2\\cdot x}}-\\frac{\\sin{\\frac{x}{y}}}{2\\cdot y\\cdot\\sqrt{\\cos{\\frac{x}{y}}}}\\\\\n",
    "z'_y=\\sqrt{2\\cdot x}\\cdot (\\sqrt{y})'_y+\\big(\\sqrt{\\cos{\\frac{x}{y}}}\\big)'_y=\\frac{\\sqrt{2\\cdot x}}{2\\cdot \\sqrt{y}}+\\frac{1}{2\\cdot\\sqrt{\\cos{\\frac{x}{y}}}}\\cdot(-\\sin(\\frac{x}{y})\\cdot (-\\frac{x}{y^2}))=\\\\\n",
    "=\\frac{\\sqrt{x}}{\\sqrt{2\\cdot y}}+\\frac{x\\cdot\\sin\\frac{x}{y}}{2\\cdot y^2\\cdot\\sqrt{\\cos{\\frac{x}{y}}}}\\\\\n",
    "dz(1;1)=\\bigg(\\frac{\\sqrt{y}}{ \\sqrt{2\\cdot x}}-\\frac{\\sin{\\frac{x}{y}}}{2\\cdot y\\cdot\\sqrt{\\cos{\\frac{x}{y}}}}\\bigg)\\cdot dx + \\bigg(\\frac{\\sqrt{x}}{\\sqrt{2\\cdot y}}+\\frac{x\\cdot\\sin\\frac{x}{y}}{2\\cdot y^2\\cdot\\sqrt{\\cos{\\frac{x}{y}}}}\\bigg)\\cdot dy = \\\\\n",
    "=\\bigg(\\frac{\\sqrt{1}}{ \\sqrt{2\\cdot 1}}-\\frac{\\sin{1}}{2\\cdot 1\\cdot\\sqrt{\\cos{1}}}\\bigg)\\cdot dx + \\bigg(\\frac{\\sqrt{1}}{\\sqrt{2\\cdot 1}}+\\frac{1\\cdot\\sin{1}}{2\\cdot 1^2\\cdot\\sqrt{\\cos{1}}}\\bigg)\\cdot dy=\\\\\n",
    "=\\bigg(\\sqrt{\\frac{1}{2}}-\\frac{\\sin{1}}{2\\cdot\\sqrt{\\cos{1}}}\\bigg)\\cdot dx + \\bigg(\\sqrt{\\frac{1}{2}}+\\frac{\\sin{1}}{2\\cdot\\sqrt{\\cos{1}}}\\bigg)\\cdot dy$"
   ]
  },
  {
   "cell_type": "code",
   "execution_count": 2,
   "metadata": {},
   "outputs": [
    {
     "name": "stdout",
     "output_type": "stream",
     "text": [
      "dz(1; 1) = 0.13471849256317225 * dx + 1.279495069809923 * dy\n"
     ]
    }
   ],
   "source": [
    "dz_x = sqrt(1/2) - sin(1) / (2 * sqrt(cos(1)))\n",
    "dz_y = sqrt(1/2) + sin(1) / (2 * sqrt(cos(1)))\n",
    "print(f'dz(1; 1) = {dz_x} * dx + {dz_y} * dy')"
   ]
  },
  {
   "cell_type": "markdown",
   "metadata": {},
   "source": [
    "$4.\\text{Иследовать на экстремум функцию.}\\\\\n",
    "z = x^2+x\\cdot y+y^2+6\\cdot x-9\\cdot y\\\\\n",
    "\\begin{equation*}\n",
    "\\left\\{\\begin{aligned}\n",
    "z'_x = 2\\cdot x + y + 6\\\\\n",
    "z'_y = x+2\\cdot y - 9\n",
    "\\end{aligned}\\right.\\to\n",
    "\\left\\{\\begin{aligned}\n",
    "2\\cdot x + y + 6 = 0\\\\\n",
    "x+2\\cdot y - 9 = 0\n",
    "\\end{aligned}\\right.\n",
    "\\left\\{\\begin{aligned}\n",
    "y = -6 - 2\\cdot x\\\\\n",
    "x= 9 - 2\\cdot y \n",
    "\\end{aligned}\\right.\n",
    "\\left\\{\\begin{aligned}\n",
    "y = -6 - 2\\cdot x\\\\\n",
    "x = 9 - 2\\cdot(-6 - 2\\cdot x) \n",
    "\\end{aligned}\\right.\\to\n",
    "\\left\\{\\begin{aligned}\n",
    "y = -6 - 2\\cdot x\\\\\n",
    "x = 21 + 4\\cdot x\n",
    "\\end{aligned}\\right.\\to\n",
    "\\left\\{\\begin{aligned}\n",
    "y = -6 - 2\\cdot (-7) = 8\\\\\n",
    "x = -\\frac{21}{3} = -7 \n",
    "\\end{aligned}\\right.\n",
    "\\end{equation*}\\\\ M(-7, 8)\\\\\n",
    "A = z''_{xx}=2\\\\\n",
    "B = z''_{xy}=1\\\\\n",
    "C = z''_{yy}=2\\\\\\Delta M = \\begin{vmatrix} 2 & 1 \\\\ 1 & 2\\end{vmatrix} = A\\cdot C - B^2 = 4 - 1 = 3\\gt 0 \\to \\text{Минимум}\\\\\n",
    "z(-7, 8) = (-7)^2 + 8\\cdot(-7) + 8^2 + 6\\cdot(-7)-9\\cdot 8 = 49-56+64-42-72 = -57\n",
    "$"
   ]
  },
  {
   "cell_type": "code",
   "execution_count": null,
   "metadata": {},
   "outputs": [],
   "source": []
  }
 ],
 "metadata": {
  "kernelspec": {
   "display_name": "Python 3",
   "language": "python",
   "name": "python3"
  },
  "language_info": {
   "codemirror_mode": {
    "name": "ipython",
    "version": 3
   },
   "file_extension": ".py",
   "mimetype": "text/x-python",
   "name": "python",
   "nbconvert_exporter": "python",
   "pygments_lexer": "ipython3",
   "version": "3.7.6"
  }
 },
 "nbformat": 4,
 "nbformat_minor": 4
}
